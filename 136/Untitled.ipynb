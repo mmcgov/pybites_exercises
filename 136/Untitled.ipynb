{
 "cells": [
  {
   "cell_type": "code",
   "execution_count": 2,
   "metadata": {},
   "outputs": [],
   "source": [
    "from enum import Enum\n",
    "from collections import defaultdict\n",
    "\n",
    "\n",
    "class Bloodtype(Enum):\n",
    "    ZERO_NEG = 0 \n",
    "    ZERO_POS = 1 \n",
    "    B_NEG = 2 \n",
    "    B_POS = 3 \n",
    "    A_NEG = 4 \n",
    "    A_POS = 5 \n",
    "    AB_NEG = 6 \n",
    "    AB_POS = 7 \n",
    "\n",
    "\n",
    "\n",
    "blood_type_text = { \n",
    "    \"0-\": Bloodtype.ZERO_NEG,\n",
    "    \"0+\": Bloodtype.ZERO_POS,\n",
    "    \"B-\": Bloodtype.B_NEG,\n",
    "    \"B+\": Bloodtype.B_POS,\n",
    "    \"A-\": Bloodtype.A_NEG,\n",
    "    \"A+\": Bloodtype.A_POS,\n",
    "    \"AB-\": Bloodtype.AB_NEG,\n",
    "    \"AB+\": Bloodtype.AB_POS,\n",
    "}"
   ]
  },
  {
   "cell_type": "code",
   "execution_count": 63,
   "metadata": {},
   "outputs": [],
   "source": [
    "# complete :\n",
    "def check_bt(donor, recipient):\n",
    "    \"\"\" Checks red blood cell compatibility based on 8 blood types\n",
    "        Args:\n",
    "        donor (int | str | Bloodtype): red blood cell type of the donor\n",
    "        recipient (int | str | Bloodtype): red blood cell type of the recipient\n",
    "        Returns:\n",
    "        bool: True for compatability, False otherwise.\n",
    "    \"\"\"\n",
    "    try:\n",
    "        if isinstance(donor, Bloodtype):\n",
    "            donor = donor.value\n",
    "        if type(donor) == str:\n",
    "            donor = blood_type_text[donor].value\n",
    "        if type(donor) == int:\n",
    "            donor = donor\n",
    "        else:\n",
    "            raise TypeError\n",
    "    except ValueError:\n",
    "        raise ValueError\n",
    "\n",
    "    try:\n",
    "        if isinstance(recipient, Bloodtype):\n",
    "            recipient = recipient.value\n",
    "        if type(recipient) == str:\n",
    "            recipient = blood_type_text[recipient].value\n",
    "        if type(recipient) == int:\n",
    "            recipient = recipient\n",
    "        else:\n",
    "            raise TypeError\n",
    "    except ValueError:\n",
    "        raise ValueError\n",
    "\n",
    "    blood_dict = defaultdict(list)\n",
    "    blood_dict = { 0: [0, 1, 2, 3, 5, 6, 7],\n",
    "                   1: [1 ,2, 3, 4, 5, 6, 7],\n",
    "                   2: [2, 3, 6, 7],\n",
    "                   3: [3, 6, 7],\n",
    "                   4: [4, 6, 7],\n",
    "                   5: [5, 6, 7],\n",
    "                   6: [6, 7],\n",
    "                   7: [7]}\n",
    "\n",
    "    if donor == 0:\n",
    "        if recipient in blood_dict[0]:\n",
    "            return True\n",
    "        else:\n",
    "            return False\n",
    "    if donor == 1:\n",
    "        if recipient in blood_dict[1]:\n",
    "            return True\n",
    "        else:\n",
    "            return False\n",
    "    if donor == 2:\n",
    "        if recipient in blood_dict[2]:\n",
    "            return True\n",
    "        else:\n",
    "            return False\n",
    "    if donor == 3:\n",
    "        if recipient in blood_dict[3]:\n",
    "            return True\n",
    "        else:\n",
    "            return False\n",
    "    if donor == 4:\n",
    "        if recipient in blood_dict[4]:\n",
    "            return True\n",
    "        else:\n",
    "            return False\n",
    "    if donor == 5:\n",
    "        if recipient in blood_dict[5]:\n",
    "            return True\n",
    "        else:\n",
    "            return False\n",
    "    if donor == 6:\n",
    "        if recipient in blood_dict[6]:\n",
    "            return True\n",
    "        else:\n",
    "            return False\n",
    "    if donor == 7:\n",
    "        if recipient in blood_dict[7]:\n",
    "            return True\n",
    "        else:\n",
    "            return False"
   ]
  },
  {
   "cell_type": "code",
   "execution_count": 64,
   "metadata": {},
   "outputs": [
    {
     "data": {
      "text/plain": [
       "False"
      ]
     },
     "execution_count": 64,
     "metadata": {},
     "output_type": "execute_result"
    }
   ],
   "source": [
    "check_bt(2,0)"
   ]
  },
  {
   "cell_type": "code",
   "execution_count": 65,
   "metadata": {},
   "outputs": [],
   "source": [
    "def test_universal_donor():\n",
    "    donor = Bloodtype.ZERO_NEG\n",
    "    for i in range(8):\n",
    "        recipient = Bloodtype(i)\n",
    "        assert check_bt(donor, recipient)"
   ]
  },
  {
   "cell_type": "code",
   "execution_count": 66,
   "metadata": {},
   "outputs": [],
   "source": [
    "test_universal_donor()"
   ]
  },
  {
   "cell_type": "code",
   "execution_count": 67,
   "metadata": {},
   "outputs": [
    {
     "name": "stdout",
     "output_type": "stream",
     "text": [
      "False\n",
      "False\n",
      "False\n",
      "False\n",
      "False\n",
      "False\n",
      "False\n",
      "False\n"
     ]
    }
   ],
   "source": [
    "for i in range(8):\n",
    "    print(check_bt(6,0))"
   ]
  },
  {
   "cell_type": "code",
   "execution_count": 68,
   "metadata": {},
   "outputs": [
    {
     "data": {
      "text/plain": [
       "False"
      ]
     },
     "execution_count": 68,
     "metadata": {},
     "output_type": "execute_result"
    }
   ],
   "source": [
    "check_bt(Bloodtype.B_POS, Bloodtype.B_NEG)"
   ]
  },
  {
   "cell_type": "code",
   "execution_count": 69,
   "metadata": {},
   "outputs": [
    {
     "data": {
      "text/plain": [
       "True"
      ]
     },
     "execution_count": 69,
     "metadata": {},
     "output_type": "execute_result"
    }
   ],
   "source": [
    "check_bt(Bloodtype.A_NEG, Bloodtype.A_NEG)"
   ]
  },
  {
   "cell_type": "code",
   "execution_count": 70,
   "metadata": {},
   "outputs": [
    {
     "data": {
      "text/plain": [
       "True"
      ]
     },
     "execution_count": 70,
     "metadata": {},
     "output_type": "execute_result"
    }
   ],
   "source": [
    "check_bt(Bloodtype.B_NEG, Bloodtype.B_POS)"
   ]
  },
  {
   "cell_type": "code",
   "execution_count": 72,
   "metadata": {},
   "outputs": [
    {
     "ename": "KeyError",
     "evalue": "'X-'",
     "output_type": "error",
     "traceback": [
      "\u001b[0;31m---------------------------------------------------------------------------\u001b[0m",
      "\u001b[0;31mKeyError\u001b[0m                                  Traceback (most recent call last)",
      "\u001b[0;32m<ipython-input-72-12f0fe6d9390>\u001b[0m in \u001b[0;36m<module>\u001b[0;34m\u001b[0m\n\u001b[0;32m----> 1\u001b[0;31m \u001b[0mcheck_bt\u001b[0m\u001b[0;34m(\u001b[0m\u001b[0;34m\"X-\"\u001b[0m\u001b[0;34m,\u001b[0m \u001b[0;34m\"Y+\"\u001b[0m\u001b[0;34m)\u001b[0m\u001b[0;34m\u001b[0m\u001b[0;34m\u001b[0m\u001b[0m\n\u001b[0m",
      "\u001b[0;32m<ipython-input-63-ca662b2a3111>\u001b[0m in \u001b[0;36mcheck_bt\u001b[0;34m(donor, recipient)\u001b[0m\n\u001b[1;32m     12\u001b[0m             \u001b[0mdonor\u001b[0m \u001b[0;34m=\u001b[0m \u001b[0mdonor\u001b[0m\u001b[0;34m.\u001b[0m\u001b[0mvalue\u001b[0m\u001b[0;34m\u001b[0m\u001b[0;34m\u001b[0m\u001b[0m\n\u001b[1;32m     13\u001b[0m         \u001b[0;32mif\u001b[0m \u001b[0mtype\u001b[0m\u001b[0;34m(\u001b[0m\u001b[0mdonor\u001b[0m\u001b[0;34m)\u001b[0m \u001b[0;34m==\u001b[0m \u001b[0mstr\u001b[0m\u001b[0;34m:\u001b[0m\u001b[0;34m\u001b[0m\u001b[0;34m\u001b[0m\u001b[0m\n\u001b[0;32m---> 14\u001b[0;31m             \u001b[0mdonor\u001b[0m \u001b[0;34m=\u001b[0m \u001b[0mblood_type_text\u001b[0m\u001b[0;34m[\u001b[0m\u001b[0mdonor\u001b[0m\u001b[0;34m]\u001b[0m\u001b[0;34m.\u001b[0m\u001b[0mvalue\u001b[0m\u001b[0;34m\u001b[0m\u001b[0;34m\u001b[0m\u001b[0m\n\u001b[0m\u001b[1;32m     15\u001b[0m         \u001b[0;32mif\u001b[0m \u001b[0mtype\u001b[0m\u001b[0;34m(\u001b[0m\u001b[0mdonor\u001b[0m\u001b[0;34m)\u001b[0m \u001b[0;34m==\u001b[0m \u001b[0mint\u001b[0m\u001b[0;34m:\u001b[0m\u001b[0;34m\u001b[0m\u001b[0;34m\u001b[0m\u001b[0m\n\u001b[1;32m     16\u001b[0m             \u001b[0mdonor\u001b[0m \u001b[0;34m=\u001b[0m \u001b[0mdonor\u001b[0m\u001b[0;34m\u001b[0m\u001b[0;34m\u001b[0m\u001b[0m\n",
      "\u001b[0;31mKeyError\u001b[0m: 'X-'"
     ]
    }
   ],
   "source": [
    "check_bt(\"X-\", \"Y+\")"
   ]
  },
  {
   "cell_type": "code",
   "execution_count": null,
   "metadata": {},
   "outputs": [],
   "source": []
  }
 ],
 "metadata": {
  "kernelspec": {
   "display_name": "py3",
   "language": "python",
   "name": "py3"
  },
  "language_info": {
   "codemirror_mode": {
    "name": "ipython",
    "version": 3
   },
   "file_extension": ".py",
   "mimetype": "text/x-python",
   "name": "python",
   "nbconvert_exporter": "python",
   "pygments_lexer": "ipython3",
   "version": "3.6.7"
  },
  "toc": {
   "base_numbering": 1,
   "nav_menu": {},
   "number_sections": true,
   "sideBar": true,
   "skip_h1_title": false,
   "title_cell": "Table of Contents",
   "title_sidebar": "Contents",
   "toc_cell": false,
   "toc_position": {},
   "toc_section_display": true,
   "toc_window_display": false
  }
 },
 "nbformat": 4,
 "nbformat_minor": 2
}
